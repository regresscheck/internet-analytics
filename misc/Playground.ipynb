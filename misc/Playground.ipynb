{
  "nbformat": 4,
  "nbformat_minor": 0,
  "metadata": {
    "colab": {
      "name": "Playground.ipynb",
      "provenance": [],
      "collapsed_sections": []
    },
    "kernelspec": {
      "name": "python3",
      "display_name": "Python 3"
    },
    "language_info": {
      "name": "python"
    }
  },
  "cells": [
    {
      "cell_type": "code",
      "execution_count": null,
      "metadata": {
        "id": "ZvzPZ2j_SUsn"
      },
      "outputs": [],
      "source": [
        "import sqlite3\n",
        "import pandas as pd"
      ]
    },
    {
      "cell_type": "code",
      "source": [
        "from google.colab import drive\n",
        "drive.mount('/content/drive')"
      ],
      "metadata": {
        "colab": {
          "base_uri": "https://localhost:8080/"
        },
        "id": "X9X_rN3NSpl4",
        "outputId": "4ded78f9-1269-4198-cbcc-a0e0c259aef6"
      },
      "execution_count": null,
      "outputs": [
        {
          "output_type": "stream",
          "name": "stdout",
          "text": [
            "Mounted at /content/drive\n"
          ]
        }
      ]
    },
    {
      "cell_type": "code",
      "source": [
        "con = sqlite3.connect(\"/content/drive/My Drive/sqlite.db\")\n",
        "df = pd.read_sql_query(\"SELECT * from activity\", con)"
      ],
      "metadata": {
        "id": "VjE6UjfZShIf"
      },
      "execution_count": null,
      "outputs": []
    },
    {
      "cell_type": "code",
      "source": [
        "df"
      ],
      "metadata": {
        "colab": {
          "base_uri": "https://localhost:8080/",
          "height": 424
        },
        "id": "6OxdFjeCS7Hh",
        "outputId": "84278108-b791-4220-b7c7-0e4a6be5a8da"
      },
      "execution_count": null,
      "outputs": [
        {
          "output_type": "execute_result",
          "data": {
            "text/plain": [
              "            id  owner_id  parent_id  \\\n",
              "0            1         1        NaN   \n",
              "1            2         2        1.0   \n",
              "2            3         3        2.0   \n",
              "3            4         4        3.0   \n",
              "4            5         5        2.0   \n",
              "...        ...       ...        ...   \n",
              "468872  468873      9830   468711.0   \n",
              "468873  468874      5022   468711.0   \n",
              "468874  468875     12595   468711.0   \n",
              "468875  468876     94207   468711.0   \n",
              "468876  468877       697   468711.0   \n",
              "\n",
              "                                                      url     domain  \\\n",
              "0       https://pikabu.ru/story/vse_v_vostorge_ot_teby...  pikabu.ru   \n",
              "1       https://pikabu.ru/story/vse_v_vostorge_ot_teby...  pikabu.ru   \n",
              "2       https://pikabu.ru/story/vse_v_vostorge_ot_teby...  pikabu.ru   \n",
              "3       https://pikabu.ru/story/vse_v_vostorge_ot_teby...  pikabu.ru   \n",
              "4       https://pikabu.ru/story/vse_v_vostorge_ot_teby...  pikabu.ru   \n",
              "...                                                   ...        ...   \n",
              "468872  https://pikabu.ru/story/dve_istorii_4825389?ci...  pikabu.ru   \n",
              "468873  https://pikabu.ru/story/dve_istorii_4825389?ci...  pikabu.ru   \n",
              "468874  https://pikabu.ru/story/dve_istorii_4825389?ci...  pikabu.ru   \n",
              "468875  https://pikabu.ru/story/dve_istorii_4825389?ci...  pikabu.ru   \n",
              "468876  https://pikabu.ru/story/dve_istorii_4825389?ci...  pikabu.ru   \n",
              "\n",
              "                                                     text  \\\n",
              "0       Все в восторге от тебя, а ты от Maybelline\\n<d...   \n",
              "1       <figure class=\"comment-image image-lazy image-...   \n",
              "2       Ох лол. Есть у меня красноушка, однажды мыла а...   \n",
              "3             <p class=\"rv-comment\">Огонь история =).</p>   \n",
              "4       <p class=\"rv-comment\">Донателло поедает Крэнга...   \n",
              "...                                                   ...   \n",
              "468872  <p class=\"rv-comment\">Ну вот я делаю добро, а ...   \n",
              "468873  Короче, тут в коментах каждый сам по себе суди...   \n",
              "468874  <p class=\"rv-comment\">Страна у нас конечно...<...   \n",
              "468875                                    Олдос хаксли?))   \n",
              "468876  <p class=\"rv-comment\">а какая тут мораль: сдел...   \n",
              "\n",
              "                     creation_time  \n",
              "0       2022-04-21 16:17:51.000000  \n",
              "1       2022-04-22 02:45:52.000000  \n",
              "2       2022-04-23 01:55:28.000000  \n",
              "3       2022-04-23 02:57:20.000000  \n",
              "4       2022-04-22 12:52:11.000000  \n",
              "...                            ...  \n",
              "468872  2017-02-10 11:59:05.000000  \n",
              "468873  2017-02-10 11:48:01.000000  \n",
              "468874  2017-02-10 11:46:50.000000  \n",
              "468875  2017-02-10 11:26:24.000000  \n",
              "468876  2017-02-10 11:20:38.000000  \n",
              "\n",
              "[468877 rows x 7 columns]"
            ],
            "text/html": [
              "\n",
              "  <div id=\"df-f52fca48-95d0-46ff-a21e-f5d088725dcd\">\n",
              "    <div class=\"colab-df-container\">\n",
              "      <div>\n",
              "<style scoped>\n",
              "    .dataframe tbody tr th:only-of-type {\n",
              "        vertical-align: middle;\n",
              "    }\n",
              "\n",
              "    .dataframe tbody tr th {\n",
              "        vertical-align: top;\n",
              "    }\n",
              "\n",
              "    .dataframe thead th {\n",
              "        text-align: right;\n",
              "    }\n",
              "</style>\n",
              "<table border=\"1\" class=\"dataframe\">\n",
              "  <thead>\n",
              "    <tr style=\"text-align: right;\">\n",
              "      <th></th>\n",
              "      <th>id</th>\n",
              "      <th>owner_id</th>\n",
              "      <th>parent_id</th>\n",
              "      <th>url</th>\n",
              "      <th>domain</th>\n",
              "      <th>text</th>\n",
              "      <th>creation_time</th>\n",
              "    </tr>\n",
              "  </thead>\n",
              "  <tbody>\n",
              "    <tr>\n",
              "      <th>0</th>\n",
              "      <td>1</td>\n",
              "      <td>1</td>\n",
              "      <td>NaN</td>\n",
              "      <td>https://pikabu.ru/story/vse_v_vostorge_ot_teby...</td>\n",
              "      <td>pikabu.ru</td>\n",
              "      <td>Все в восторге от тебя, а ты от Maybelline\\n&lt;d...</td>\n",
              "      <td>2022-04-21 16:17:51.000000</td>\n",
              "    </tr>\n",
              "    <tr>\n",
              "      <th>1</th>\n",
              "      <td>2</td>\n",
              "      <td>2</td>\n",
              "      <td>1.0</td>\n",
              "      <td>https://pikabu.ru/story/vse_v_vostorge_ot_teby...</td>\n",
              "      <td>pikabu.ru</td>\n",
              "      <td>&lt;figure class=\"comment-image image-lazy image-...</td>\n",
              "      <td>2022-04-22 02:45:52.000000</td>\n",
              "    </tr>\n",
              "    <tr>\n",
              "      <th>2</th>\n",
              "      <td>3</td>\n",
              "      <td>3</td>\n",
              "      <td>2.0</td>\n",
              "      <td>https://pikabu.ru/story/vse_v_vostorge_ot_teby...</td>\n",
              "      <td>pikabu.ru</td>\n",
              "      <td>Ох лол. Есть у меня красноушка, однажды мыла а...</td>\n",
              "      <td>2022-04-23 01:55:28.000000</td>\n",
              "    </tr>\n",
              "    <tr>\n",
              "      <th>3</th>\n",
              "      <td>4</td>\n",
              "      <td>4</td>\n",
              "      <td>3.0</td>\n",
              "      <td>https://pikabu.ru/story/vse_v_vostorge_ot_teby...</td>\n",
              "      <td>pikabu.ru</td>\n",
              "      <td>&lt;p class=\"rv-comment\"&gt;Огонь история =).&lt;/p&gt;</td>\n",
              "      <td>2022-04-23 02:57:20.000000</td>\n",
              "    </tr>\n",
              "    <tr>\n",
              "      <th>4</th>\n",
              "      <td>5</td>\n",
              "      <td>5</td>\n",
              "      <td>2.0</td>\n",
              "      <td>https://pikabu.ru/story/vse_v_vostorge_ot_teby...</td>\n",
              "      <td>pikabu.ru</td>\n",
              "      <td>&lt;p class=\"rv-comment\"&gt;Донателло поедает Крэнга...</td>\n",
              "      <td>2022-04-22 12:52:11.000000</td>\n",
              "    </tr>\n",
              "    <tr>\n",
              "      <th>...</th>\n",
              "      <td>...</td>\n",
              "      <td>...</td>\n",
              "      <td>...</td>\n",
              "      <td>...</td>\n",
              "      <td>...</td>\n",
              "      <td>...</td>\n",
              "      <td>...</td>\n",
              "    </tr>\n",
              "    <tr>\n",
              "      <th>468872</th>\n",
              "      <td>468873</td>\n",
              "      <td>9830</td>\n",
              "      <td>468711.0</td>\n",
              "      <td>https://pikabu.ru/story/dve_istorii_4825389?ci...</td>\n",
              "      <td>pikabu.ru</td>\n",
              "      <td>&lt;p class=\"rv-comment\"&gt;Ну вот я делаю добро, а ...</td>\n",
              "      <td>2017-02-10 11:59:05.000000</td>\n",
              "    </tr>\n",
              "    <tr>\n",
              "      <th>468873</th>\n",
              "      <td>468874</td>\n",
              "      <td>5022</td>\n",
              "      <td>468711.0</td>\n",
              "      <td>https://pikabu.ru/story/dve_istorii_4825389?ci...</td>\n",
              "      <td>pikabu.ru</td>\n",
              "      <td>Короче, тут в коментах каждый сам по себе суди...</td>\n",
              "      <td>2017-02-10 11:48:01.000000</td>\n",
              "    </tr>\n",
              "    <tr>\n",
              "      <th>468874</th>\n",
              "      <td>468875</td>\n",
              "      <td>12595</td>\n",
              "      <td>468711.0</td>\n",
              "      <td>https://pikabu.ru/story/dve_istorii_4825389?ci...</td>\n",
              "      <td>pikabu.ru</td>\n",
              "      <td>&lt;p class=\"rv-comment\"&gt;Страна у нас конечно...&lt;...</td>\n",
              "      <td>2017-02-10 11:46:50.000000</td>\n",
              "    </tr>\n",
              "    <tr>\n",
              "      <th>468875</th>\n",
              "      <td>468876</td>\n",
              "      <td>94207</td>\n",
              "      <td>468711.0</td>\n",
              "      <td>https://pikabu.ru/story/dve_istorii_4825389?ci...</td>\n",
              "      <td>pikabu.ru</td>\n",
              "      <td>Олдос хаксли?))</td>\n",
              "      <td>2017-02-10 11:26:24.000000</td>\n",
              "    </tr>\n",
              "    <tr>\n",
              "      <th>468876</th>\n",
              "      <td>468877</td>\n",
              "      <td>697</td>\n",
              "      <td>468711.0</td>\n",
              "      <td>https://pikabu.ru/story/dve_istorii_4825389?ci...</td>\n",
              "      <td>pikabu.ru</td>\n",
              "      <td>&lt;p class=\"rv-comment\"&gt;а какая тут мораль: сдел...</td>\n",
              "      <td>2017-02-10 11:20:38.000000</td>\n",
              "    </tr>\n",
              "  </tbody>\n",
              "</table>\n",
              "<p>468877 rows × 7 columns</p>\n",
              "</div>\n",
              "      <button class=\"colab-df-convert\" onclick=\"convertToInteractive('df-f52fca48-95d0-46ff-a21e-f5d088725dcd')\"\n",
              "              title=\"Convert this dataframe to an interactive table.\"\n",
              "              style=\"display:none;\">\n",
              "        \n",
              "  <svg xmlns=\"http://www.w3.org/2000/svg\" height=\"24px\"viewBox=\"0 0 24 24\"\n",
              "       width=\"24px\">\n",
              "    <path d=\"M0 0h24v24H0V0z\" fill=\"none\"/>\n",
              "    <path d=\"M18.56 5.44l.94 2.06.94-2.06 2.06-.94-2.06-.94-.94-2.06-.94 2.06-2.06.94zm-11 1L8.5 8.5l.94-2.06 2.06-.94-2.06-.94L8.5 2.5l-.94 2.06-2.06.94zm10 10l.94 2.06.94-2.06 2.06-.94-2.06-.94-.94-2.06-.94 2.06-2.06.94z\"/><path d=\"M17.41 7.96l-1.37-1.37c-.4-.4-.92-.59-1.43-.59-.52 0-1.04.2-1.43.59L10.3 9.45l-7.72 7.72c-.78.78-.78 2.05 0 2.83L4 21.41c.39.39.9.59 1.41.59.51 0 1.02-.2 1.41-.59l7.78-7.78 2.81-2.81c.8-.78.8-2.07 0-2.86zM5.41 20L4 18.59l7.72-7.72 1.47 1.35L5.41 20z\"/>\n",
              "  </svg>\n",
              "      </button>\n",
              "      \n",
              "  <style>\n",
              "    .colab-df-container {\n",
              "      display:flex;\n",
              "      flex-wrap:wrap;\n",
              "      gap: 12px;\n",
              "    }\n",
              "\n",
              "    .colab-df-convert {\n",
              "      background-color: #E8F0FE;\n",
              "      border: none;\n",
              "      border-radius: 50%;\n",
              "      cursor: pointer;\n",
              "      display: none;\n",
              "      fill: #1967D2;\n",
              "      height: 32px;\n",
              "      padding: 0 0 0 0;\n",
              "      width: 32px;\n",
              "    }\n",
              "\n",
              "    .colab-df-convert:hover {\n",
              "      background-color: #E2EBFA;\n",
              "      box-shadow: 0px 1px 2px rgba(60, 64, 67, 0.3), 0px 1px 3px 1px rgba(60, 64, 67, 0.15);\n",
              "      fill: #174EA6;\n",
              "    }\n",
              "\n",
              "    [theme=dark] .colab-df-convert {\n",
              "      background-color: #3B4455;\n",
              "      fill: #D2E3FC;\n",
              "    }\n",
              "\n",
              "    [theme=dark] .colab-df-convert:hover {\n",
              "      background-color: #434B5C;\n",
              "      box-shadow: 0px 1px 3px 1px rgba(0, 0, 0, 0.15);\n",
              "      filter: drop-shadow(0px 1px 2px rgba(0, 0, 0, 0.3));\n",
              "      fill: #FFFFFF;\n",
              "    }\n",
              "  </style>\n",
              "\n",
              "      <script>\n",
              "        const buttonEl =\n",
              "          document.querySelector('#df-f52fca48-95d0-46ff-a21e-f5d088725dcd button.colab-df-convert');\n",
              "        buttonEl.style.display =\n",
              "          google.colab.kernel.accessAllowed ? 'block' : 'none';\n",
              "\n",
              "        async function convertToInteractive(key) {\n",
              "          const element = document.querySelector('#df-f52fca48-95d0-46ff-a21e-f5d088725dcd');\n",
              "          const dataTable =\n",
              "            await google.colab.kernel.invokeFunction('convertToInteractive',\n",
              "                                                     [key], {});\n",
              "          if (!dataTable) return;\n",
              "\n",
              "          const docLinkHtml = 'Like what you see? Visit the ' +\n",
              "            '<a target=\"_blank\" href=https://colab.research.google.com/notebooks/data_table.ipynb>data table notebook</a>'\n",
              "            + ' to learn more about interactive tables.';\n",
              "          element.innerHTML = '';\n",
              "          dataTable['output_type'] = 'display_data';\n",
              "          await google.colab.output.renderOutput(dataTable, element);\n",
              "          const docLink = document.createElement('div');\n",
              "          docLink.innerHTML = docLinkHtml;\n",
              "          element.appendChild(docLink);\n",
              "        }\n",
              "      </script>\n",
              "    </div>\n",
              "  </div>\n",
              "  "
            ]
          },
          "metadata": {},
          "execution_count": 4
        }
      ]
    },
    {
      "cell_type": "code",
      "source": [
        "df.groupby(by=['owner_id']).size().plot.hist(bins=50, range=(0, 50), figsize=(18, 12))"
      ],
      "metadata": {
        "colab": {
          "base_uri": "https://localhost:8080/",
          "height": 717
        },
        "id": "CnVDTmGQTzX-",
        "outputId": "18df1783-7553-4003-8b8d-0148bfecfd75"
      },
      "execution_count": null,
      "outputs": [
        {
          "output_type": "execute_result",
          "data": {
            "text/plain": [
              "<matplotlib.axes._subplots.AxesSubplot at 0x7faae76b1e90>"
            ]
          },
          "metadata": {},
          "execution_count": 5
        },
        {
          "output_type": "display_data",
          "data": {
            "text/plain": [
              "<Figure size 1296x864 with 1 Axes>"
            ],
            "image/png": "[encoded data removed]"
          },
          "metadata": {
            "needs_background": "light"
          }
        }
      ]
    }
  ]
}